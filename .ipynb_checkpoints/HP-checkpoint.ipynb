{
 "cells": [
  {
   "cell_type": "markdown",
   "id": "6fa8d5fc",
   "metadata": {},
   "source": [
    "## <center>Importing Libraries</center>"
   ]
  },
  {
   "cell_type": "code",
   "execution_count": 75,
   "id": "1e2608be",
   "metadata": {},
   "outputs": [],
   "source": [
    "import numpy as np"
   ]
  },
  {
   "cell_type": "markdown",
   "id": "e6036804",
   "metadata": {},
   "source": [
    "### Functions"
   ]
  },
  {
   "cell_type": "code",
   "execution_count": 76,
   "id": "d21a1e6a",
   "metadata": {},
   "outputs": [],
   "source": [
    "def find_priority_vector(inputs):\n",
    "    columns_sum = np.sum(inputs, axis=0)\n",
    "    normalize = np.round(np.divide(inputs, columns_sum), 6)\n",
    "    row_sum = np.sum(normalize, axis=1)\n",
    "    return row_sum / inputs.shape[0]"
   ]
  },
  {
   "cell_type": "code",
   "execution_count": 77,
   "id": "9c866da0",
   "metadata": {},
   "outputs": [],
   "source": [
    "def find_lambda(priority_vec, columns_sum):\n",
    "    return np.round(priority_vec @ columns_sum, 3)"
   ]
  },
  {
   "cell_type": "code",
   "execution_count": 78,
   "id": "7eac0941",
   "metadata": {},
   "outputs": [],
   "source": [
    "def find_ci(_lambda, size):\n",
    "    return np.round((_lambda - size) / (size - 1), 3)"
   ]
  },
  {
   "cell_type": "code",
   "execution_count": 79,
   "id": "397f4f02",
   "metadata": {},
   "outputs": [],
   "source": [
    "def find_consistency_result(ci_value, ri, size):\n",
    "    return np.round(ci_value / ri[size-1], 3)"
   ]
  },
  {
   "cell_type": "code",
   "execution_count": 80,
   "id": "dd2a9160",
   "metadata": {},
   "outputs": [],
   "source": [
    "def calculate_consistency_result(inputs, ri):\n",
    "    matrix_size = inputs.shape[0]\n",
    "    priority_vec = find_priority_vector(inputs)\n",
    "    col_sum = np.sum(inputs, axis=0)\n",
    "    _lambda = find_lambda(priority_vec, col_sum)\n",
    "    ci_val = find_ci(_lambda, matrix_size)\n",
    "    consistency_result = find_consistency_result(ci, ri, matrix_size) * 100\n",
    "    print(f'Our consistency result is {np.round(consistency_result, 2)} %')"
   ]
  },
  {
   "cell_type": "markdown",
   "id": "4077aa95",
   "metadata": {},
   "source": [
    "## Our inputs"
   ]
  },
  {
   "cell_type": "code",
   "execution_count": 81,
   "id": "65441f5c",
   "metadata": {
    "scrolled": true
   },
   "outputs": [],
   "source": [
    "inputs = np.array([\n",
    "    [1,5,7],\n",
    "    [0.2, 1, 3],\n",
    "    [0.14,0.33, 1]\n",
    "])\n",
    "ri = np.array([0,0,0.58,0.9, 1.12])"
   ]
  },
  {
   "cell_type": "code",
   "execution_count": 82,
   "id": "ef98b3db",
   "metadata": {},
   "outputs": [
    {
     "data": {
      "text/plain": [
       "array([[1.  , 5.  , 7.  ],\n",
       "       [0.2 , 1.  , 3.  ],\n",
       "       [0.14, 0.33, 1.  ]])"
      ]
     },
     "execution_count": 82,
     "metadata": {},
     "output_type": "execute_result"
    }
   ],
   "source": [
    "inputs"
   ]
  },
  {
   "cell_type": "markdown",
   "id": "f6edfeeb",
   "metadata": {},
   "source": [
    "## Our calculate function"
   ]
  },
  {
   "cell_type": "code",
   "execution_count": 83,
   "id": "0eae24ea",
   "metadata": {},
   "outputs": [
    {
     "name": "stdout",
     "output_type": "stream",
     "text": [
      "Our consistency result is 8.8 %\n"
     ]
    }
   ],
   "source": [
    "calculate_consistency_result(inputs, ri)"
   ]
  }
 ],
 "metadata": {
  "kernelspec": {
   "display_name": "Python 3 (ipykernel)",
   "language": "python",
   "name": "python3"
  },
  "language_info": {
   "codemirror_mode": {
    "name": "ipython",
    "version": 3
   },
   "file_extension": ".py",
   "mimetype": "text/x-python",
   "name": "python",
   "nbconvert_exporter": "python",
   "pygments_lexer": "ipython3",
   "version": "3.9.12"
  }
 },
 "nbformat": 4,
 "nbformat_minor": 5
}
